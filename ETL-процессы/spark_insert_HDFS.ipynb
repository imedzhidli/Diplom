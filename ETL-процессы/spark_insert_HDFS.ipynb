{
 "cells": [
  {
   "cell_type": "code",
   "execution_count": null,
   "id": "8953f115-b3b9-4c94-b968-b6381defb8b0",
   "metadata": {},
   "outputs": [],
   "source": [
    "# Загрузка данных в HDFS"
   ]
  },
  {
   "cell_type": "code",
   "execution_count": null,
   "id": "54644923-1cdf-4dc0-adf2-7bcb4ae17ca3",
   "metadata": {},
   "outputs": [],
   "source": [
    "from pyspark.sql import SparkSession\n",
    "import time"
   ]
  },
  {
   "cell_type": "code",
   "execution_count": null,
   "id": "e79eddc1-030b-456d-9e31-746f9c569c41",
   "metadata": {},
   "outputs": [],
   "source": [
    "start_time = time.time()"
   ]
  },
  {
   "cell_type": "code",
   "execution_count": null,
   "id": "6d114a61-fe94-4daa-b0b9-d4a3482cc4a8",
   "metadata": {},
   "outputs": [],
   "source": [
    "jar_files = [\n",
    "    \"/home/imedzhidli/spark/postgresql-42.7.5.jar\"\n",
    "]"
   ]
  },
  {
   "cell_type": "code",
   "execution_count": null,
   "id": "1485a1fc-87c1-45a9-8793-58517520dacc",
   "metadata": {},
   "outputs": [],
   "source": [
    "\",\".join(jar_files)"
   ]
  },
  {
   "cell_type": "code",
   "execution_count": null,
   "id": "889d0d76-13a6-4273-8bf1-fda083169e9a",
   "metadata": {},
   "outputs": [],
   "source": [
    "spark = (\n",
    "    SparkSession\n",
    "    .builder\n",
    "    .appName(\"PostgresToHDFSParquet\")\n",
    "    .config(\"spark.jars\", \",\".join(jar_files))\n",
    "    .config(\"spark.driver.extraClassPath\", \",\".join(jar_files))\n",
    "    .config(\"spark.executor.extraClassPath\", \",\".join(jar_files))\n",
    "    .getOrCreate()\n",
    ")"
   ]
  },
  {
   "cell_type": "code",
   "execution_count": null,
   "id": "52b81ff0-ac2c-4f51-bbb4-020ecedec661",
   "metadata": {},
   "outputs": [],
   "source": [
    "pg_host = 'localhost'\n",
    "pg_port = '5432'\n",
    "pg_db = 'GIN'\n",
    "pg_table = 'ero.objects'\n",
    "pg_user = 'postgres'\n",
    "pg_password = 'admin'\n",
    "hdfs_output_path = \"hdfs://localhost:9000/gin\""
   ]
  },
  {
   "cell_type": "code",
   "execution_count": null,
   "id": "0d3fb686-9c00-4990-b224-44d20742ab95",
   "metadata": {},
   "outputs": [],
   "source": [
    "end_time = time.time()\n",
    "\n",
    "print(f\"Этап занял {end_time - start_time:.2f} секунд\")"
   ]
  },
  {
   "cell_type": "code",
   "execution_count": null,
   "id": "74961eca-f2c7-416e-b229-a5ac521d949c",
   "metadata": {},
   "outputs": [],
   "source": [
    "start_time = time.time()\n",
    "objects = (\n",
    "    spark.read\n",
    "    .format('jdbc')\n",
    "    .option('url', f'jdbc:postgresql://{pg_host}:{pg_port}/{pg_db}')\n",
    "    .option('dbtable', pg_table)\n",
    "    .option('user', pg_user)\n",
    "    .option('password', pg_password)\n",
    "    .option('driver', 'org.postgresql.Driver')\n",
    "    .load()\n",
    ")\n",
    "\n",
    "# Сохраняем DataFrame в HDFS в формате Parquet\n",
    "objects.write.mode(\"append\").parquet(hdfs_output_path)\n",
    "end_time = time.time()\n",
    "\n",
    "print(f\"Этап занял {end_time - start_time:.2f} секунд\")"
   ]
  },
  {
   "cell_type": "code",
   "execution_count": null,
   "id": "6c14982c-e62b-49e4-b14e-f77418264195",
   "metadata": {},
   "outputs": [],
   "source": [
    "start_time = time.time()\n",
    "pg_table = 'ero.object_addresses'\n",
    "object_addresses = (\n",
    "    spark.read\n",
    "    .format('jdbc')\n",
    "    .option('url', f'jdbc:postgresql://{pg_host}:{pg_port}/{pg_db}')\n",
    "    .option('dbtable', pg_table)\n",
    "    .option('user', pg_user)\n",
    "    .option('password', pg_password)\n",
    "    .option('driver', 'org.postgresql.Driver')\n",
    "    .load()\n",
    ")\n",
    "\n",
    "# Сохраняем DataFrame в HDFS в формате Parquet\n",
    "object_addresses.write.mode(\"append\").parquet(hdfs_output_path)\n",
    "end_time = time.time()\n",
    "\n",
    "print(f\"Этап занял {end_time - start_time:.2f} секунд\")"
   ]
  },
  {
   "cell_type": "code",
   "execution_count": null,
   "id": "abbd57a4-87cb-4252-82b9-8e25c0c3c1c6",
   "metadata": {},
   "outputs": [],
   "source": [
    "start_time = time.time()\n",
    "pg_table = 'ero.source_destructing'\n",
    "source_destructing = (\n",
    "    spark.read\n",
    "    .format('jdbc')\n",
    "    .option('url', f'jdbc:postgresql://{pg_host}:{pg_port}/{pg_db}')\n",
    "    .option('dbtable', pg_table)\n",
    "    .option('user', pg_user)\n",
    "    .option('password', pg_password)\n",
    "    .option('driver', 'org.postgresql.Driver')\n",
    "    .load()\n",
    ")\n",
    "\n",
    "# Сохраняем DataFrame в HDFS в формате Parquet\n",
    "source_destructing.write.mode(\"append\").parquet(hdfs_output_path)\n",
    "end_time = time.time()\n",
    "\n",
    "print(f\"Этап занял {end_time - start_time:.2f} секунд\")"
   ]
  },
  {
   "cell_type": "code",
   "execution_count": null,
   "id": "f44f6c3d-f0c9-4807-878d-026e8234a0f4",
   "metadata": {},
   "outputs": [],
   "source": [
    "start_time = time.time()\n",
    "pg_table = 'ero.source_undivided'\n",
    "source_undivided = (\n",
    "    spark.read\n",
    "    .format('jdbc')\n",
    "    .option('url', f'jdbc:postgresql://{pg_host}:{pg_port}/{pg_db}')\n",
    "    .option('dbtable', pg_table)\n",
    "    .option('user', pg_user)\n",
    "    .option('password', pg_password)\n",
    "    .option('driver', 'org.postgresql.Driver')\n",
    "    .load()\n",
    ")\n",
    "\n",
    "# Сохраняем DataFrame в HDFS в формате Parquet\n",
    "source_undivided.write.mode(\"append\").parquet(hdfs_output_path)\n",
    "end_time = time.time()\n",
    "\n",
    "print(f\"Этап занял {end_time - start_time:.2f} секунд\")"
   ]
  },
  {
   "cell_type": "code",
   "execution_count": null,
   "id": "63ce28b6-2ee8-4278-bb72-218934efd1b5",
   "metadata": {},
   "outputs": [],
   "source": [
    "start_time = time.time()\n",
    "pg_table = 'ero.source_unfinished'\n",
    "source_unfinished = (\n",
    "    spark.read\n",
    "    .format('jdbc')\n",
    "    .option('url', f'jdbc:postgresql://{pg_host}:{pg_port}/{pg_db}')\n",
    "    .option('dbtable', pg_table)\n",
    "    .option('user', pg_user)\n",
    "    .option('password', pg_password)\n",
    "    .option('driver', 'org.postgresql.Driver')\n",
    "    .load()\n",
    ")\n",
    "\n",
    "# Сохраняем DataFrame в HDFS в формате Parquet\n",
    "source_unfinished.write.mode(\"append\").parquet(hdfs_output_path)\n",
    "end_time = time.time()\n",
    "\n",
    "print(f\"Этап занял {end_time - start_time:.2f} секунд\")"
   ]
  },
  {
   "cell_type": "code",
   "execution_count": null,
   "id": "0494e833-e424-4634-a580-710ca720d648",
   "metadata": {},
   "outputs": [],
   "source": [
    "start_time = time.time()\n",
    "pg_table = 'ero.source_unowned'\n",
    "source_unowned = (\n",
    "    spark.read\n",
    "    .format('jdbc')\n",
    "    .option('url', f'jdbc:postgresql://{pg_host}:{pg_port}/{pg_db}')\n",
    "    .option('dbtable', pg_table)\n",
    "    .option('user', pg_user)\n",
    "    .option('password', pg_password)\n",
    "    .option('driver', 'org.postgresql.Driver')\n",
    "    .load()\n",
    ")\n",
    "\n",
    "# Сохраняем DataFrame в HDFS в формате Parquet\n",
    "source_unowned.write.mode(\"append\").parquet(hdfs_output_path)"
   ]
  },
  {
   "cell_type": "code",
   "execution_count": null,
   "id": "45e12c87-72e9-4636-a139-0b5d7f08d58a",
   "metadata": {},
   "outputs": [],
   "source": [
    "spark.stop()\n",
    "end_time = time.time()\n",
    "print(f\"Этап занял {end_time - start_time:.2f} секунд\")"
   ]
  },
  {
   "cell_type": "code",
   "execution_count": null,
   "id": "d36025de-32cb-4cf1-92cd-19cd22d3e44b",
   "metadata": {},
   "outputs": [],
   "source": [
    "spark.stop()"
   ]
  }
 ],
 "metadata": {
  "kernelspec": {
   "display_name": "Python 3 (ipykernel)",
   "language": "python",
   "name": "python3"
  },
  "language_info": {
   "codemirror_mode": {
    "name": "ipython",
    "version": 3
   },
   "file_extension": ".py",
   "mimetype": "text/x-python",
   "name": "python",
   "nbconvert_exporter": "python",
   "pygments_lexer": "ipython3",
   "version": "3.12.3"
  }
 },
 "nbformat": 4,
 "nbformat_minor": 5
}
