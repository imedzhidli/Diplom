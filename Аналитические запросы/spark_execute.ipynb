{
 "cells": [
  {
   "cell_type": "code",
   "execution_count": null,
   "id": "2f3350a4-92ab-42a8-aba6-c8bf252d903d",
   "metadata": {},
   "outputs": [],
   "source": [
    "from pyspark.sql import SparkSession\n",
    "import time"
   ]
  },
  {
   "cell_type": "code",
   "execution_count": null,
   "id": "9d5c91aa-7b6a-4e72-bf8e-a8da0ee3d0f3",
   "metadata": {},
   "outputs": [],
   "source": [
    "spark = SparkSession.builder \\\n",
    "    .appName(\"SQL_Queries\") \\\n",
    "    .getOrCreate()"
   ]
  },
  {
   "cell_type": "code",
   "execution_count": null,
   "id": "c3ed6b34-d68b-45da-8131-c6c6652be416",
   "metadata": {},
   "outputs": [],
   "source": [
    "start_time = time.time()\n",
    "objects = spark.read.parquet(\"hdfs://localhost:9000/gin/objects.parquet\")\n",
    "object_addresses = spark.read.parquet(\"hdfs://localhost:9000/gin/object_addresses.parquet\")\n",
    "source_undivided = spark.read.parquet(\"hdfs://localhost:9000/gin/source_undivided.parquet\")\n",
    "source_destructing = spark.read.parquet(\"hdfs://localhost:9000/gin/source_destructing.parquet\")\n",
    "\n",
    "\n",
    "objects.createOrReplaceTempView(\"objects\")\n",
    "object_addresses.createOrReplaceTempView(\"object_addresses\")\n",
    "source_undivided.createOrReplaceTempView(\"source_undivided\")\n",
    "source_destructing.createOrReplaceTempView(\"source_destructing\")"
   ]
  },
  {
   "cell_type": "code",
   "execution_count": null,
   "id": "6f8b3632-7b68-421e-8d27-471482ab9b80",
   "metadata": {},
   "outputs": [],
   "source": [
    "end_time = time.time()\n",
    "\n",
    "print(f\"Этап занял {end_time - start_time:.2f} секунд\")"
   ]
  },
  {
   "cell_type": "code",
   "execution_count": null,
   "id": "08981eca-9e51-4111-ac11-32734a9f7500",
   "metadata": {},
   "outputs": [],
   "source": [
    "# Выполнение запроса 1\n",
    "start_time = time.time()\n",
    "result = spark.sql(\"\"\"\n",
    "    SELECT id\n",
    "    FROM (\n",
    "        SELECT DISTINCT o.id AS id, o.cadastral_number AS cn, 'asdfg' AS sa, 'dfgbhn' AS fa, 'hybgvf' AS ar\n",
    "        FROM objects o\n",
    "        JOIN source_destructing sd ON sd.cadastral_number = o.cadastral_number\n",
    "        UNION\n",
    "        SELECT DISTINCT oa.object_id AS id, '-21345' AS cn, oa.simple_address AS sa, oa.full_address AS fa, oa.address_reference AS ar\n",
    "        FROM object_addresses oa\n",
    "        JOIN source_destructing sd \n",
    "        WHERE sd.address = oa.full_address OR sd.address = oa.address_reference\n",
    "    ) AS b\n",
    "\"\"\")"
   ]
  },
  {
   "cell_type": "code",
   "execution_count": null,
   "id": "c784629c-96f7-4c81-8914-7bf1e8f4de3c",
   "metadata": {},
   "outputs": [],
   "source": [
    "result.show()\n",
    "end_time = time.time()\n",
    "print(f\"Этап занял {end_time - start_time:.2f} секунд\")"
   ]
  },
  {
   "cell_type": "code",
   "execution_count": null,
   "id": "68403cd6-15d2-43c2-9dc7-a028883abe8f",
   "metadata": {},
   "outputs": [],
   "source": [
    "# Выполнение запроса 2\n",
    "start_time = time.time()\n",
    "result = spark.sql(\"\"\"\n",
    "    SELECT id\n",
    "    FROM (\n",
    "        SELECT DISTINCT o.id AS id, o.cadastral_number AS cn, 'asdfg' AS sa, 'dfgbhn' AS fa, 'hybgvf' AS ar\n",
    "        FROM objects o\n",
    "        JOIN source_undivided su ON su.cadastral_number = o.cadastral_number\n",
    "        UNION\n",
    "        SELECT DISTINCT oa.object_id AS id, '-21345' AS cn, oa.simple_address AS sa, oa.full_address AS fa, oa.address_reference AS ar\n",
    "        FROM object_addresses oa\n",
    "        JOIN source_undivided su \n",
    "        WHERE su.location = oa.simple_address OR su.location = oa.full_address OR su.location = oa.address_reference\n",
    "    ) AS b\n",
    "\"\"\")"
   ]
  },
  {
   "cell_type": "code",
   "execution_count": null,
   "id": "26671fbe-828a-4111-b7e4-f233c489f8cf",
   "metadata": {},
   "outputs": [],
   "source": [
    "result.show()\n",
    "end_time = time.time()\n",
    "print(f\"Этап занял {end_time - start_time:.2f} секунд\")"
   ]
  },
  {
   "cell_type": "code",
   "execution_count": null,
   "id": "8b2d261a-df46-48e6-bebb-56829e86b54d",
   "metadata": {},
   "outputs": [],
   "source": [
    "# Создание подзапроса для 3 запроса\n",
    "start_time = time.time()\n",
    "subquery = spark.sql(\"\"\"\n",
    "    SELECT DISTINCT o.id AS id, o.cadastral_number AS cn, 'asdfg' AS sa, 'dfgbhn' AS fa, 'hybgvf' AS ar\n",
    "    FROM objects o\n",
    "    JOIN source_undivided su ON su.cadastral_number = o.cadastral_number\n",
    "    UNION\n",
    "    SELECT DISTINCT oa.object_id AS id, '-21345' AS cn, oa.simple_address AS sa, oa.full_address AS fa, oa.address_reference AS ar\n",
    "    FROM object_addresses oa\n",
    "    JOIN source_undivided su \n",
    "    WHERE su.location = oa.simple_address OR su.location = oa.full_address OR su.location = oa.address_reference\n",
    "\"\"\")\n",
    "subquery.createOrReplaceTempView(\"b\")"
   ]
  },
  {
   "cell_type": "code",
   "execution_count": null,
   "id": "51135820-be39-4d94-a44e-0b74606af1c4",
   "metadata": {},
   "outputs": [],
   "source": [
    "# Обновление данных - создаем новый DataFrame с обновленными значениями\n",
    "updated_source_undivided = spark.sql(\"\"\"\n",
    "    SELECT \n",
    "        su.*,\n",
    "        CASE\n",
    "            WHEN su.cadastral_number = b.cn OR su.location IN (b.sa, b.fa, b.ar) THEN b.id\n",
    "            ELSE su.object_id\n",
    "        END AS new_object_id\n",
    "    FROM source_undivided su\n",
    "    LEFT JOIN b ON su.cadastral_number = b.cn OR su.location IN (b.sa, b.fa, b.ar)\n",
    "\"\"\")\n",
    "\n",
    "# Заменяем старый столбец object_id новым\n",
    "final_source_undivided = updated_source_undivided.drop(\"object_id\").withColumnRenamed(\"new_object_id\", \"object_id\")\n",
    "\n",
    "# Сохраняем обновленные данные обратно в HDFS\n",
    "final_source_undivided.write.mode(\"append\").parquet(\"hdfs://localhost:9000/gin/source_undivided_updated.parquet\")"
   ]
  },
  {
   "cell_type": "code",
   "execution_count": null,
   "id": "7b7fc8aa-3e46-4429-9a52-b32cd8bca76e",
   "metadata": {},
   "outputs": [],
   "source": [
    "spark.stop()\n",
    "end_time = time.time()\n",
    "print(f\"Этап занял {end_time - start_time:.2f} секунд\")"
   ]
  },
  {
   "cell_type": "code",
   "execution_count": null,
   "id": "9fc61ca9-d085-4dc6-884c-7cf425e23cc4",
   "metadata": {},
   "outputs": [],
   "source": [
    "spark.stop()"
   ]
  }
 ],
 "metadata": {
  "kernelspec": {
   "display_name": "Python 3",
   "language": "python",
   "name": "python3"
  },
  "language_info": {
   "codemirror_mode": {
    "name": "ipython",
    "version": 3
   },
   "file_extension": ".py",
   "mimetype": "text/x-python",
   "name": "python",
   "nbconvert_exporter": "python",
   "pygments_lexer": "ipython3",
   "version": "3.12.3"
  }
 },
 "nbformat": 4,
 "nbformat_minor": 5
}
